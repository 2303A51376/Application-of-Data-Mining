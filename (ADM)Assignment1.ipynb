{
  "nbformat": 4,
  "nbformat_minor": 0,
  "metadata": {
    "colab": {
      "provenance": [],
      "authorship_tag": "ABX9TyOBfrDB264DIfBuxfNcCFcd",
      "include_colab_link": true
    },
    "kernelspec": {
      "name": "python3",
      "display_name": "Python 3"
    },
    "language_info": {
      "name": "python"
    }
  },
  "cells": [
    {
      "cell_type": "markdown",
      "metadata": {
        "id": "view-in-github",
        "colab_type": "text"
      },
      "source": [
        "<a href=\"https://colab.research.google.com/github/2303A51376/Application-of-Data-Mining/blob/main/(ADM)Assignment1.ipynb\" target=\"_parent\"><img src=\"https://colab.research.google.com/assets/colab-badge.svg\" alt=\"Open In Colab\"/></a>"
      ]
    },
    {
      "cell_type": "code",
      "execution_count": null,
      "metadata": {
        "id": "ObkQTRCM98tD"
      },
      "outputs": [],
      "source": [
        "import pandas as pd\n",
        "import numpy as np\n",
        "from sklearn.preprocessing import MinMaxScaler, StandardScaler"
      ]
    },
    {
      "cell_type": "code",
      "source": [],
      "metadata": {
        "id": "CDQUL1EjBlYq"
      },
      "execution_count": null,
      "outputs": []
    },
    {
      "cell_type": "code",
      "source": [
        "file_path = '/content/employee_data.csv'\n",
        "data = pd.read_csv(file_path)"
      ],
      "metadata": {
        "id": "QqgT0wYv99ua"
      },
      "execution_count": null,
      "outputs": []
    },
    {
      "cell_type": "code",
      "source": [
        "print(\"Original Dataset:\")\n",
        "print(data)"
      ],
      "metadata": {
        "colab": {
          "base_uri": "https://localhost:8080/"
        },
        "id": "2xB6ARDL99sC",
        "outputId": "147450ae-413a-4357-de84-1d46cf74b521"
      },
      "execution_count": null,
      "outputs": [
        {
          "output_type": "stream",
          "name": "stdout",
          "text": [
            "Original Dataset:\n",
            "    Employee_ID   Age    Salary  Job_Satisfaction  Work_Hours_Per_Week\n",
            "0          1001  50.0  108953.0               9.0                   36\n",
            "1          1002  36.0   82995.0               8.0                   59\n",
            "2          1003  29.0   70757.0               2.0                   30\n",
            "3          1004  42.0   39692.0               1.0                   30\n",
            "4          1005  40.0   75758.0               7.0                   54\n",
            "5          1006  44.0  102409.0               7.0                   56\n",
            "6          1007  32.0       NaN               NaN                   59\n",
            "7          1008  32.0   95697.0               5.0                   54\n",
            "8          1009  45.0   67065.0               3.0                   49\n",
            "9          1010  57.0       NaN               8.0                   42\n",
            "10         1011  45.0   41534.0               6.0                   38\n",
            "11         1012   NaN   70397.0               NaN                   32\n",
            "12         1013  43.0   31016.0               NaN                   36\n",
            "13         1014  23.0  119789.0               1.0                   35\n",
            "14         1015  45.0   85591.0               3.0                   37\n",
            "15         1016  51.0  119812.0               5.0                   56\n",
            "16         1017  59.0   53247.0               3.0                   38\n",
            "17         1018  23.0   54300.0               1.0                   59\n",
            "18         1019  42.0  104065.0               5.0                   34\n",
            "19         1020  54.0  112798.0              10.0                   30\n",
            "20         1021  33.0   39268.0               7.0                   48\n",
            "21         1022  43.0  116807.0               7.0                   39\n",
            "22         1023  46.0   42185.0               NaN                   41\n",
            "23         1024  48.0   93704.0               9.0                   53\n",
            "24         1025  49.0       NaN              10.0                   44\n",
            "25         1026  37.0   69099.0               NaN                   56\n",
            "26         1027  36.0       NaN               3.0                   51\n",
            "27         1028  24.0   68044.0               7.0                   53\n",
            "28         1029  58.0   81214.0               1.0                   38\n",
            "29         1030  28.0   91228.0               4.0                   49\n",
            "30         1031   NaN   78984.0               4.0                   46\n",
            "31         1032  30.0   70774.0               NaN                   59\n",
            "32         1033  39.0   32568.0               7.0                   46\n",
            "33         1034  25.0   92592.0               7.0                   55\n",
            "34         1035   NaN   97563.0               NaN                   49\n",
            "35         1036  35.0   32695.0               4.0                   41\n",
            "36         1037  30.0   78190.0               7.0                   59\n",
            "37         1038  47.0   35258.0               NaN                   36\n",
            "38         1039  23.0       NaN               3.0                   31\n",
            "39         1040   NaN   69504.0               6.0                   32\n",
            "40         1041  49.0   63159.0               2.0                   46\n",
            "41         1042  28.0   43986.0              10.0                   34\n",
            "42         1043  29.0   91858.0               9.0                   46\n",
            "43         1044  56.0   42666.0               5.0                   53\n",
            "44         1045  35.0   68660.0               6.0                   46\n",
            "45         1046  38.0   33561.0               4.0                   56\n",
            "46         1047  57.0   56854.0               NaN                   46\n",
            "47         1048  25.0   94505.0               NaN                   31\n",
            "48         1049  23.0   82251.0               7.0                   31\n",
            "49         1050   NaN   52662.0               9.0                   57\n"
          ]
        }
      ]
    },
    {
      "cell_type": "code",
      "source": [
        "data.isna"
      ],
      "metadata": {
        "colab": {
          "base_uri": "https://localhost:8080/",
          "height": 187
        },
        "id": "HkxCtp4199pg",
        "outputId": "9b3a6fad-98f6-4fc2-ffdd-386c33141f0b"
      },
      "execution_count": null,
      "outputs": [
        {
          "output_type": "execute_result",
          "data": {
            "text/plain": [
              "<bound method DataFrame.isna of     Employee_ID   Age    Salary  Job_Satisfaction  Work_Hours_Per_Week\n",
              "0          1001  50.0  108953.0               9.0                   36\n",
              "1          1002  36.0   82995.0               8.0                   59\n",
              "2          1003  29.0   70757.0               2.0                   30\n",
              "3          1004  42.0   39692.0               1.0                   30\n",
              "4          1005  40.0   75758.0               7.0                   54\n",
              "5          1006  44.0  102409.0               7.0                   56\n",
              "6          1007  32.0       NaN               NaN                   59\n",
              "7          1008  32.0   95697.0               5.0                   54\n",
              "8          1009  45.0   67065.0               3.0                   49\n",
              "9          1010  57.0       NaN               8.0                   42\n",
              "10         1011  45.0   41534.0               6.0                   38\n",
              "11         1012   NaN   70397.0               NaN                   32\n",
              "12         1013  43.0   31016.0               NaN                   36\n",
              "13         1014  23.0  119789.0               1.0                   35\n",
              "14         1015  45.0   85591.0               3.0                   37\n",
              "15         1016  51.0  119812.0               5.0                   56\n",
              "16         1017  59.0   53247.0               3.0                   38\n",
              "17         1018  23.0   54300.0               1.0                   59\n",
              "18         1019  42.0  104065.0               5.0                   34\n",
              "19         1020  54.0  112798.0              10.0                   30\n",
              "20         1021  33.0   39268.0               7.0                   48\n",
              "21         1022  43.0  116807.0               7.0                   39\n",
              "22         1023  46.0   42185.0               NaN                   41\n",
              "23         1024  48.0   93704.0               9.0                   53\n",
              "24         1025  49.0       NaN              10.0                   44\n",
              "25         1026  37.0   69099.0               NaN                   56\n",
              "26         1027  36.0       NaN               3.0                   51\n",
              "27         1028  24.0   68044.0               7.0                   53\n",
              "28         1029  58.0   81214.0               1.0                   38\n",
              "29         1030  28.0   91228.0               4.0                   49\n",
              "30         1031   NaN   78984.0               4.0                   46\n",
              "31         1032  30.0   70774.0               NaN                   59\n",
              "32         1033  39.0   32568.0               7.0                   46\n",
              "33         1034  25.0   92592.0               7.0                   55\n",
              "34         1035   NaN   97563.0               NaN                   49\n",
              "35         1036  35.0   32695.0               4.0                   41\n",
              "36         1037  30.0   78190.0               7.0                   59\n",
              "37         1038  47.0   35258.0               NaN                   36\n",
              "38         1039  23.0       NaN               3.0                   31\n",
              "39         1040   NaN   69504.0               6.0                   32\n",
              "40         1041  49.0   63159.0               2.0                   46\n",
              "41         1042  28.0   43986.0              10.0                   34\n",
              "42         1043  29.0   91858.0               9.0                   46\n",
              "43         1044  56.0   42666.0               5.0                   53\n",
              "44         1045  35.0   68660.0               6.0                   46\n",
              "45         1046  38.0   33561.0               4.0                   56\n",
              "46         1047  57.0   56854.0               NaN                   46\n",
              "47         1048  25.0   94505.0               NaN                   31\n",
              "48         1049  23.0   82251.0               7.0                   31\n",
              "49         1050   NaN   52662.0               9.0                   57>"
            ],
            "text/html": [
              "<div style=\"max-width:800px; border: 1px solid var(--colab-border-color);\"><style>\n",
              "      pre.function-repr-contents {\n",
              "        overflow-x: auto;\n",
              "        padding: 8px 12px;\n",
              "        max-height: 500px;\n",
              "      }\n",
              "\n",
              "      pre.function-repr-contents.function-repr-contents-collapsed {\n",
              "        cursor: pointer;\n",
              "        max-height: 100px;\n",
              "      }\n",
              "    </style>\n",
              "    <pre style=\"white-space: initial; background:\n",
              "         var(--colab-secondary-surface-color); padding: 8px 12px;\n",
              "         border-bottom: 1px solid var(--colab-border-color);\"><b>pandas.core.frame.DataFrame.isna</b><br/>def isna() -&gt; DataFrame</pre><pre class=\"function-repr-contents function-repr-contents-collapsed\" style=\"\"><a class=\"filepath\" style=\"display:none\" href=\"#\">/usr/local/lib/python3.11/dist-packages/pandas/core/frame.py</a>Detect missing values.\n",
              "\n",
              "Return a boolean same-sized object indicating if the values are NA.\n",
              "NA values, such as None or :attr:`numpy.NaN`, gets mapped to True\n",
              "values.\n",
              "Everything else gets mapped to False values. Characters such as empty\n",
              "strings ``&#x27;&#x27;`` or :attr:`numpy.inf` are not considered NA values\n",
              "(unless you set ``pandas.options.mode.use_inf_as_na = True``).\n",
              "\n",
              "Returns\n",
              "-------\n",
              "DataFrame\n",
              "    Mask of bool values for each element in DataFrame that\n",
              "    indicates whether an element is an NA value.\n",
              "\n",
              "See Also\n",
              "--------\n",
              "DataFrame.isnull : Alias of isna.\n",
              "DataFrame.notna : Boolean inverse of isna.\n",
              "DataFrame.dropna : Omit axes labels with missing values.\n",
              "isna : Top-level isna.\n",
              "\n",
              "Examples\n",
              "--------\n",
              "Show which entries in a DataFrame are NA.\n",
              "\n",
              "&gt;&gt;&gt; df = pd.DataFrame(dict(age=[5, 6, np.nan],\n",
              "...                        born=[pd.NaT, pd.Timestamp(&#x27;1939-05-27&#x27;),\n",
              "...                              pd.Timestamp(&#x27;1940-04-25&#x27;)],\n",
              "...                        name=[&#x27;Alfred&#x27;, &#x27;Batman&#x27;, &#x27;&#x27;],\n",
              "...                        toy=[None, &#x27;Batmobile&#x27;, &#x27;Joker&#x27;]))\n",
              "&gt;&gt;&gt; df\n",
              "   age       born    name        toy\n",
              "0  5.0        NaT  Alfred       None\n",
              "1  6.0 1939-05-27  Batman  Batmobile\n",
              "2  NaN 1940-04-25              Joker\n",
              "\n",
              "&gt;&gt;&gt; df.isna()\n",
              "     age   born   name    toy\n",
              "0  False   True  False   True\n",
              "1  False  False  False  False\n",
              "2   True  False  False  False\n",
              "\n",
              "Show which entries in a Series are NA.\n",
              "\n",
              "&gt;&gt;&gt; ser = pd.Series([5, 6, np.nan])\n",
              "&gt;&gt;&gt; ser\n",
              "0    5.0\n",
              "1    6.0\n",
              "2    NaN\n",
              "dtype: float64\n",
              "\n",
              "&gt;&gt;&gt; ser.isna()\n",
              "0    False\n",
              "1    False\n",
              "2     True\n",
              "dtype: bool</pre>\n",
              "      <script>\n",
              "      if (google.colab.kernel.accessAllowed && google.colab.files && google.colab.files.view) {\n",
              "        for (const element of document.querySelectorAll('.filepath')) {\n",
              "          element.style.display = 'block'\n",
              "          element.onclick = (event) => {\n",
              "            event.preventDefault();\n",
              "            event.stopPropagation();\n",
              "            google.colab.files.view(element.textContent, 6488);\n",
              "          };\n",
              "        }\n",
              "      }\n",
              "      for (const element of document.querySelectorAll('.function-repr-contents')) {\n",
              "        element.onclick = (event) => {\n",
              "          event.preventDefault();\n",
              "          event.stopPropagation();\n",
              "          element.classList.toggle('function-repr-contents-collapsed');\n",
              "        };\n",
              "      }\n",
              "      </script>\n",
              "      </div>"
            ]
          },
          "metadata": {},
          "execution_count": 5
        }
      ]
    },
    {
      "cell_type": "code",
      "source": [
        "data['Age'].fillna(data['Age'].mean(), inplace=True)  # Mean  for Age\n",
        "data['Salary'].fillna(data['Salary'].median(), inplace=True)  # Median for Salary\n",
        "data['Job_Satisfaction'].fillna(data['Job_Satisfaction'].mode()[0], inplace=True)  # Mode for Job Satisfaction\n"
      ],
      "metadata": {
        "colab": {
          "base_uri": "https://localhost:8080/"
        },
        "id": "64Eq_wyX99m-",
        "outputId": "5a5495c4-d489-4c60-c721-56833ce55005"
      },
      "execution_count": null,
      "outputs": [
        {
          "output_type": "stream",
          "name": "stderr",
          "text": [
            "<ipython-input-6-dc60c7123a50>:1: FutureWarning: A value is trying to be set on a copy of a DataFrame or Series through chained assignment using an inplace method.\n",
            "The behavior will change in pandas 3.0. This inplace method will never work because the intermediate object on which we are setting values always behaves as a copy.\n",
            "\n",
            "For example, when doing 'df[col].method(value, inplace=True)', try using 'df.method({col: value}, inplace=True)' or df[col] = df[col].method(value) instead, to perform the operation inplace on the original object.\n",
            "\n",
            "\n",
            "  data['Age'].fillna(data['Age'].mean(), inplace=True)  # Mean  for Age\n",
            "<ipython-input-6-dc60c7123a50>:2: FutureWarning: A value is trying to be set on a copy of a DataFrame or Series through chained assignment using an inplace method.\n",
            "The behavior will change in pandas 3.0. This inplace method will never work because the intermediate object on which we are setting values always behaves as a copy.\n",
            "\n",
            "For example, when doing 'df[col].method(value, inplace=True)', try using 'df.method({col: value}, inplace=True)' or df[col] = df[col].method(value) instead, to perform the operation inplace on the original object.\n",
            "\n",
            "\n",
            "  data['Salary'].fillna(data['Salary'].median(), inplace=True)  # Median for Salary\n",
            "<ipython-input-6-dc60c7123a50>:3: FutureWarning: A value is trying to be set on a copy of a DataFrame or Series through chained assignment using an inplace method.\n",
            "The behavior will change in pandas 3.0. This inplace method will never work because the intermediate object on which we are setting values always behaves as a copy.\n",
            "\n",
            "For example, when doing 'df[col].method(value, inplace=True)', try using 'df.method({col: value}, inplace=True)' or df[col] = df[col].method(value) instead, to perform the operation inplace on the original object.\n",
            "\n",
            "\n",
            "  data['Job_Satisfaction'].fillna(data['Job_Satisfaction'].mode()[0], inplace=True)  # Mode for Job Satisfaction\n"
          ]
        }
      ]
    },
    {
      "cell_type": "code",
      "source": [
        "min_max_scaler = MinMaxScaler()\n",
        "data[['Age', 'Salary']] = min_max_scaler.fit_transform(data[['Age', 'Salary']])\n",
        "\n"
      ],
      "metadata": {
        "id": "QyEnOgGR99kU"
      },
      "execution_count": null,
      "outputs": []
    },
    {
      "cell_type": "code",
      "source": [
        "def min_max_scale_manual(column):\n",
        "\n",
        "        return (column - column.min()) / (column.max() - column.min())\n",
        "        data['Age_manual'] = min_max_scale_manual(data['Age'])\n",
        "        data['Salary_manual'] = min_max_scale_manual(data['Salary'])\n",
        "\n",
        "\n",
        "\n"
      ],
      "metadata": {
        "id": "vu-XmvOK99hy"
      },
      "execution_count": null,
      "outputs": []
    },
    {
      "cell_type": "code",
      "source": [
        "standard_scaler = StandardScaler()\n",
        "data[['Job_Satisfaction', 'Work_Hours_Per_Week']] = standard_scaler.fit_transform(data[['Job_Satisfaction', 'Work_Hours_Per_Week']])\n"
      ],
      "metadata": {
        "id": "IjBuG77t99fX"
      },
      "execution_count": null,
      "outputs": []
    },
    {
      "cell_type": "code",
      "source": [
        "def z_score_normalize(column):\n",
        "        # Indent the return statement to be part of the function body\n",
        "            return (column - column.mean()) / column.std()\n"
      ],
      "metadata": {
        "id": "Mz8ovbI499ao"
      },
      "execution_count": null,
      "outputs": []
    },
    {
      "cell_type": "code",
      "source": [
        "data['Job_Satisfaction_manual'] = z_score_normalize(data['Job_Satisfaction'])\n",
        "data['Work_Hours_Per_Week_manual'] = z_score_normalize(data['Work_Hours_Per_Week'])\n"
      ],
      "metadata": {
        "id": "qll94oXp99YH"
      },
      "execution_count": null,
      "outputs": []
    },
    {
      "cell_type": "code",
      "source": [
        "print(\"\\nBeforePreprocessed Dataset:\")\n",
        "print(data)\n"
      ],
      "metadata": {
        "colab": {
          "base_uri": "https://localhost:8080/"
        },
        "id": "qgqkrAUF99Vv",
        "outputId": "be26fe3a-396d-46aa-dd58-69d19d7a63be"
      },
      "execution_count": null,
      "outputs": [
        {
          "output_type": "stream",
          "name": "stdout",
          "text": [
            "\n",
            "BeforePreprocessed Dataset:\n",
            "    Employee_ID       Age    Salary  Job_Satisfaction  Work_Hours_Per_Week  \\\n",
            "0          1001  0.750000  0.877708          1.275854            -0.905969   \n",
            "1          1002  0.361111  0.585375          0.872103             1.483629   \n",
            "2          1003  0.166667  0.447554         -1.550405            -1.529343   \n",
            "3          1004  0.527778  0.097707         -1.954156            -1.529343   \n",
            "4          1005  0.472222  0.503874          0.468352             0.964151   \n",
            "5          1006  0.583333  0.804011          0.468352             1.171942   \n",
            "6          1007  0.250000  0.447554          0.468352             1.483629   \n",
            "7          1008  0.250000  0.728422         -0.339151             0.964151   \n",
            "8          1009  0.611111  0.405975         -1.146654             0.444673   \n",
            "9          1010  0.944444  0.447554          0.872103            -0.282596   \n",
            "10         1011  0.611111  0.118451          0.064600            -0.698178   \n",
            "11         1012  0.449383  0.443500          0.468352            -1.321551   \n",
            "12         1013  0.555556  0.000000          0.468352            -0.905969   \n",
            "13         1014  0.000000  0.999741         -1.954156            -1.009865   \n",
            "14         1015  0.611111  0.614611         -1.146654            -0.802074   \n",
            "15         1016  0.777778  1.000000         -0.339151             1.171942   \n",
            "16         1017  1.000000  0.250360         -1.146654            -0.698178   \n",
            "17         1018  0.000000  0.262219         -1.954156             1.483629   \n",
            "18         1019  0.527778  0.822661         -0.339151            -1.113760   \n",
            "19         1020  0.861111  0.921010          1.679605            -1.529343   \n",
            "20         1021  0.277778  0.092932          0.468352             0.340777   \n",
            "21         1022  0.555556  0.966158          0.468352            -0.594283   \n",
            "22         1023  0.638889  0.125783          0.468352            -0.386491   \n",
            "23         1024  0.694444  0.705978          1.275854             0.860255   \n",
            "24         1025  0.722222  0.447554          1.679605            -0.074805   \n",
            "25         1026  0.388889  0.428882          0.468352             1.171942   \n",
            "26         1027  0.361111  0.447554         -1.146654             0.652464   \n",
            "27         1028  0.027778  0.417001          0.468352             0.860255   \n",
            "28         1029  0.972222  0.565318         -1.954156            -0.698178   \n",
            "29         1030  0.138889  0.678094         -0.742902             0.444673   \n",
            "30         1031  0.449383  0.540205         -0.742902             0.132986   \n",
            "31         1032  0.194444  0.447745          0.468352             1.483629   \n",
            "32         1033  0.444444  0.017478          0.468352             0.132986   \n",
            "33         1034  0.055556  0.693455          0.468352             1.068046   \n",
            "34         1035  0.449383  0.749437          0.468352             0.444673   \n",
            "35         1036  0.333333  0.018909         -0.742902            -0.386491   \n",
            "36         1037  0.194444  0.531263          0.468352             1.483629   \n",
            "37         1038  0.666667  0.047772          0.468352            -0.905969   \n",
            "38         1039  0.000000  0.447554         -1.146654            -1.425447   \n",
            "39         1040  0.449383  0.433443          0.064600            -1.321551   \n",
            "40         1041  0.722222  0.361987         -1.550405             0.132986   \n",
            "41         1042  0.138889  0.146065          1.679605            -1.113760   \n",
            "42         1043  0.166667  0.685189          1.275854             0.132986   \n",
            "43         1044  0.916667  0.131200         -0.339151             0.860255   \n",
            "44         1045  0.333333  0.423938          0.064600             0.132986   \n",
            "45         1046  0.416667  0.028661         -0.742902             1.171942   \n",
            "46         1047  0.944444  0.290982          0.468352             0.132986   \n",
            "47         1048  0.055556  0.714998          0.468352            -1.425447   \n",
            "48         1049  0.000000  0.576997          0.468352            -1.425447   \n",
            "49         1050  0.449383  0.243772          1.275854             1.275837   \n",
            "\n",
            "    Job_Satisfaction_manual  Work_Hours_Per_Week_manual  \n",
            "0                  1.263031                   -0.896864  \n",
            "1                  0.863338                    1.468717  \n",
            "2                 -1.534823                   -1.513972  \n",
            "3                 -1.934516                   -1.513972  \n",
            "4                  0.463644                    0.954461  \n",
            "5                  0.463644                    1.160163  \n",
            "6                  0.463644                    1.468717  \n",
            "7                 -0.335742                    0.954461  \n",
            "8                 -1.135129                    0.440204  \n",
            "9                  0.863338                   -0.279756  \n",
            "10                 0.063951                   -0.691161  \n",
            "11                 0.463644                   -1.308269  \n",
            "12                 0.463644                   -0.896864  \n",
            "13                -1.934516                   -0.999715  \n",
            "14                -1.135129                   -0.794012  \n",
            "15                -0.335742                    1.160163  \n",
            "16                -1.135129                   -0.691161  \n",
            "17                -1.934516                    1.468717  \n",
            "18                -0.335742                   -1.102567  \n",
            "19                 1.662725                   -1.513972  \n",
            "20                 0.463644                    0.337352  \n",
            "21                 0.463644                   -0.588310  \n",
            "22                 0.463644                   -0.382607  \n",
            "23                 1.263031                    0.851609  \n",
            "24                 1.662725                   -0.074053  \n",
            "25                 0.463644                    1.160163  \n",
            "26                -1.135129                    0.645907  \n",
            "27                 0.463644                    0.851609  \n",
            "28                -1.934516                   -0.691161  \n",
            "29                -0.735436                    0.440204  \n",
            "30                -0.735436                    0.131650  \n",
            "31                 0.463644                    1.468717  \n",
            "32                 0.463644                    0.131650  \n",
            "33                 0.463644                    1.057312  \n",
            "34                 0.463644                    0.440204  \n",
            "35                -0.735436                   -0.382607  \n",
            "36                 0.463644                    1.468717  \n",
            "37                 0.463644                   -0.896864  \n",
            "38                -1.135129                   -1.411121  \n",
            "39                 0.063951                   -1.308269  \n",
            "40                -1.534823                    0.131650  \n",
            "41                 1.662725                   -1.102567  \n",
            "42                 1.263031                    0.131650  \n",
            "43                -0.335742                    0.851609  \n",
            "44                 0.063951                    0.131650  \n",
            "45                -0.735436                    1.160163  \n",
            "46                 0.463644                    0.131650  \n",
            "47                 0.463644                   -1.411121  \n",
            "48                 0.463644                   -1.411121  \n",
            "49                 1.263031                    1.263015  \n"
          ]
        }
      ]
    },
    {
      "cell_type": "code",
      "source": [
        "print(\"\\nDataset after preprocessing:\")\n",
        "print(data)\n"
      ],
      "metadata": {
        "colab": {
          "base_uri": "https://localhost:8080/"
        },
        "id": "5wkjff_v99Tb",
        "outputId": "5a1d748b-ab18-4095-bd12-c4169cc34057"
      },
      "execution_count": null,
      "outputs": [
        {
          "output_type": "stream",
          "name": "stdout",
          "text": [
            "\n",
            "Dataset after preprocessing:\n",
            "    Employee_ID       Age    Salary  Job_Satisfaction  Work_Hours_Per_Week  \\\n",
            "0          1001  0.750000  0.877708          1.275854            -0.905969   \n",
            "1          1002  0.361111  0.585375          0.872103             1.483629   \n",
            "2          1003  0.166667  0.447554         -1.550405            -1.529343   \n",
            "3          1004  0.527778  0.097707         -1.954156            -1.529343   \n",
            "4          1005  0.472222  0.503874          0.468352             0.964151   \n",
            "5          1006  0.583333  0.804011          0.468352             1.171942   \n",
            "6          1007  0.250000  0.447554          0.468352             1.483629   \n",
            "7          1008  0.250000  0.728422         -0.339151             0.964151   \n",
            "8          1009  0.611111  0.405975         -1.146654             0.444673   \n",
            "9          1010  0.944444  0.447554          0.872103            -0.282596   \n",
            "10         1011  0.611111  0.118451          0.064600            -0.698178   \n",
            "11         1012  0.449383  0.443500          0.468352            -1.321551   \n",
            "12         1013  0.555556  0.000000          0.468352            -0.905969   \n",
            "13         1014  0.000000  0.999741         -1.954156            -1.009865   \n",
            "14         1015  0.611111  0.614611         -1.146654            -0.802074   \n",
            "15         1016  0.777778  1.000000         -0.339151             1.171942   \n",
            "16         1017  1.000000  0.250360         -1.146654            -0.698178   \n",
            "17         1018  0.000000  0.262219         -1.954156             1.483629   \n",
            "18         1019  0.527778  0.822661         -0.339151            -1.113760   \n",
            "19         1020  0.861111  0.921010          1.679605            -1.529343   \n",
            "20         1021  0.277778  0.092932          0.468352             0.340777   \n",
            "21         1022  0.555556  0.966158          0.468352            -0.594283   \n",
            "22         1023  0.638889  0.125783          0.468352            -0.386491   \n",
            "23         1024  0.694444  0.705978          1.275854             0.860255   \n",
            "24         1025  0.722222  0.447554          1.679605            -0.074805   \n",
            "25         1026  0.388889  0.428882          0.468352             1.171942   \n",
            "26         1027  0.361111  0.447554         -1.146654             0.652464   \n",
            "27         1028  0.027778  0.417001          0.468352             0.860255   \n",
            "28         1029  0.972222  0.565318         -1.954156            -0.698178   \n",
            "29         1030  0.138889  0.678094         -0.742902             0.444673   \n",
            "30         1031  0.449383  0.540205         -0.742902             0.132986   \n",
            "31         1032  0.194444  0.447745          0.468352             1.483629   \n",
            "32         1033  0.444444  0.017478          0.468352             0.132986   \n",
            "33         1034  0.055556  0.693455          0.468352             1.068046   \n",
            "34         1035  0.449383  0.749437          0.468352             0.444673   \n",
            "35         1036  0.333333  0.018909         -0.742902            -0.386491   \n",
            "36         1037  0.194444  0.531263          0.468352             1.483629   \n",
            "37         1038  0.666667  0.047772          0.468352            -0.905969   \n",
            "38         1039  0.000000  0.447554         -1.146654            -1.425447   \n",
            "39         1040  0.449383  0.433443          0.064600            -1.321551   \n",
            "40         1041  0.722222  0.361987         -1.550405             0.132986   \n",
            "41         1042  0.138889  0.146065          1.679605            -1.113760   \n",
            "42         1043  0.166667  0.685189          1.275854             0.132986   \n",
            "43         1044  0.916667  0.131200         -0.339151             0.860255   \n",
            "44         1045  0.333333  0.423938          0.064600             0.132986   \n",
            "45         1046  0.416667  0.028661         -0.742902             1.171942   \n",
            "46         1047  0.944444  0.290982          0.468352             0.132986   \n",
            "47         1048  0.055556  0.714998          0.468352            -1.425447   \n",
            "48         1049  0.000000  0.576997          0.468352            -1.425447   \n",
            "49         1050  0.449383  0.243772          1.275854             1.275837   \n",
            "\n",
            "    Job_Satisfaction_manual  Work_Hours_Per_Week_manual  \n",
            "0                  1.263031                   -0.896864  \n",
            "1                  0.863338                    1.468717  \n",
            "2                 -1.534823                   -1.513972  \n",
            "3                 -1.934516                   -1.513972  \n",
            "4                  0.463644                    0.954461  \n",
            "5                  0.463644                    1.160163  \n",
            "6                  0.463644                    1.468717  \n",
            "7                 -0.335742                    0.954461  \n",
            "8                 -1.135129                    0.440204  \n",
            "9                  0.863338                   -0.279756  \n",
            "10                 0.063951                   -0.691161  \n",
            "11                 0.463644                   -1.308269  \n",
            "12                 0.463644                   -0.896864  \n",
            "13                -1.934516                   -0.999715  \n",
            "14                -1.135129                   -0.794012  \n",
            "15                -0.335742                    1.160163  \n",
            "16                -1.135129                   -0.691161  \n",
            "17                -1.934516                    1.468717  \n",
            "18                -0.335742                   -1.102567  \n",
            "19                 1.662725                   -1.513972  \n",
            "20                 0.463644                    0.337352  \n",
            "21                 0.463644                   -0.588310  \n",
            "22                 0.463644                   -0.382607  \n",
            "23                 1.263031                    0.851609  \n",
            "24                 1.662725                   -0.074053  \n",
            "25                 0.463644                    1.160163  \n",
            "26                -1.135129                    0.645907  \n",
            "27                 0.463644                    0.851609  \n",
            "28                -1.934516                   -0.691161  \n",
            "29                -0.735436                    0.440204  \n",
            "30                -0.735436                    0.131650  \n",
            "31                 0.463644                    1.468717  \n",
            "32                 0.463644                    0.131650  \n",
            "33                 0.463644                    1.057312  \n",
            "34                 0.463644                    0.440204  \n",
            "35                -0.735436                   -0.382607  \n",
            "36                 0.463644                    1.468717  \n",
            "37                 0.463644                   -0.896864  \n",
            "38                -1.135129                   -1.411121  \n",
            "39                 0.063951                   -1.308269  \n",
            "40                -1.534823                    0.131650  \n",
            "41                 1.662725                   -1.102567  \n",
            "42                 1.263031                    0.131650  \n",
            "43                -0.335742                    0.851609  \n",
            "44                 0.063951                    0.131650  \n",
            "45                -0.735436                    1.160163  \n",
            "46                 0.463644                    0.131650  \n",
            "47                 0.463644                   -1.411121  \n",
            "48                 0.463644                   -1.411121  \n",
            "49                 1.263031                    1.263015  \n"
          ]
        }
      ]
    },
    {
      "cell_type": "code",
      "source": [],
      "metadata": {
        "id": "4FV7TofB-vCT"
      },
      "execution_count": null,
      "outputs": []
    },
    {
      "cell_type": "code",
      "source": [],
      "metadata": {
        "id": "RfHXNgH4-u-s"
      },
      "execution_count": null,
      "outputs": []
    },
    {
      "cell_type": "code",
      "source": [],
      "metadata": {
        "id": "mo4B_ybk-u8X"
      },
      "execution_count": null,
      "outputs": []
    },
    {
      "cell_type": "code",
      "source": [],
      "metadata": {
        "id": "Z_lKUkaj-u6G"
      },
      "execution_count": null,
      "outputs": []
    },
    {
      "cell_type": "code",
      "source": [],
      "metadata": {
        "id": "PT71o7ja-u3o"
      },
      "execution_count": null,
      "outputs": []
    }
  ]
}